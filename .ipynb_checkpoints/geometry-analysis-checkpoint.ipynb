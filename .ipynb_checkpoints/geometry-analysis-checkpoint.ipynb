{
 "cells": [
  {
   "cell_type": "markdown",
   "metadata": {},
   "source": [
    "# Homework Assignment 2\n",
    "\n",
    "You will be analyzing an xyz file for water (water.xyz) and measuring the distances between all the atoms in the molecule.  The file is located in the data folder of your workshop materials. The output of your code should look like this.\n",
    "\n",
    "```\n",
    "O to O : 0.0\n",
    "O to H1 : 0.969\n",
    "O to H2 : 0.969\n",
    "H1 to O : 0.969\n",
    "H1 to H1 : 0.0\n",
    "H1 to H2 : 1.527\n",
    "H2 to O : 0.969\n",
    "H2 to H1 : 1.527\n",
    "H2 to H2 : 0.0\n",
    "```\n",
    "To do this you will need to use the distance formula.\n",
    "\n",
    "$$distance = \\sqrt{(x_1 - x_2)^2 + (y_1 - y_2)^2 + (z_1 - z_2)^2}$$\n",
    "\n",
    "As you can see that you will need to square stuff and take the square root.  To take the square root, you will use a function from numpy, `numpy.sqrt()`.  To square something, use `**` notation.  As in, `3**2 = 9` is $3^2 =9$."
   ]
  },
  {
   "cell_type": "code",
   "execution_count": null,
   "metadata": {},
   "outputs": [],
   "source": []
  }
 ],
 "metadata": {
  "kernelspec": {
   "display_name": "Python 3",
   "language": "python",
   "name": "python3"
  },
  "language_info": {
   "codemirror_mode": {
    "name": "ipython",
    "version": 3
   },
   "file_extension": ".py",
   "mimetype": "text/x-python",
   "name": "python",
   "nbconvert_exporter": "python",
   "pygments_lexer": "ipython3",
   "version": "3.7.4"
  }
 },
 "nbformat": 4,
 "nbformat_minor": 2
}
